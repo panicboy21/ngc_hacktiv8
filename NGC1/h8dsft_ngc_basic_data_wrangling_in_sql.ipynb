{
 "cells": [
  {
   "cell_type": "code",
   "execution_count": null,
   "metadata": {
    "vscode": {
     "languageId": "sql"
    }
   },
   "outputs": [],
   "source": [
    "--Create Table Customer and Orders\n",
    "\n",
    "--Create Table Customer\n",
    "CREATE TABLE customer (\n",
    "\tcustomer_id SERIAL PRIMARY KEY,\n",
    "\tcustomer_name VARCHAR(15),\n",
    "\tcity VARCHAR(30)\n",
    ");\n",
    "\n",
    "--Create Table Orders\n",
    "CREATE TABLE orders (\n",
    "\torder_id SERIAL PRIMARY KEY,\n",
    "\tcustomer_id INTEGER REFERENCES customer(customer_id),\n",
    "\torder_date DATE,\n",
    "\ttotal_amount FLOAT\n",
    ");\n",
    "\n",
    "\n",
    "----------------------------\n",
    "---INSERT DATA INTO TABLE---\n",
    "----------------------------\n",
    "\n",
    "--Insert Data into Table Customer\n",
    "INSERT INTO customer (customer_name, city)\n",
    "VALUES \n",
    "\t('Jhon Doe', 'New York'),\n",
    "\t('Jane Smith', 'Los Angles'),\n",
    "\t('David Johnson', 'Chicago');\n",
    "\n",
    "\n",
    "--Insert Data into Table Orders\n",
    "INSERT INTO orders (customer_id, order_date, total_amount)\n",
    "VALUES \n",
    "\t('1', '2022-01-10', '100'),\n",
    "\t('1', '2022-05-15', '150'),\n",
    "\t('2', '2022-03-20', '200'),\n",
    "\t('3', '2022-04-25', '50');\n",
    "\t\n",
    "\n",
    "--------------------------------------------------\n",
    "---SELECT ALL DATA FROM TABLE Customer & Orders---\n",
    "--------------------------------------------------\n",
    "SELECT * FROM customer;\n",
    "SELECT * FROM orders;\n",
    "\n",
    "\n",
    "--SELECT TOTAL ORDER FOR EACH CUSTOMER--\n",
    "SELECT \n",
    "\tcustomer.customer_name,\n",
    "\tCOUNT(orders.customer_id) AS total_orders\n",
    "FROM\n",
    "\tcustomer JOIN orders ON customer.customer_id = orders.customer_id\n",
    "GROUP BY\n",
    "\tcustomer.customer_id\n",
    "ORDER BY\n",
    "\tCOUNT(orders.customer_id) DESC;\n",
    "\n"
   ]
  }
 ],
 "metadata": {
  "language_info": {
   "name": "python"
  }
 },
 "nbformat": 4,
 "nbformat_minor": 2
}
