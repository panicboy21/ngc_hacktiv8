{
 "cells": [
  {
   "cell_type": "markdown",
   "metadata": {},
   "source": [
    "Task 1\n",
    "\n",
    "Instruction :\n",
    "1. Create function called `number_of_word`.\n",
    "2. This function takes 1 input, `sentence`.\n",
    "3. Inside this function, you can utilize `.split()` method to split the sentence into list of word(s).\n",
    "4. Also, `len()` function to count the element inside a list.\n",
    "5. Return the number of word from the sentence.\n",
    "\n",
    "Example:\n",
    "- Input: number_of_word(sentence = ’Hello World!’)\n",
    "- Output: 2\n",
    "\n",
    "- Input: number_of_word(sentence = ’Once Upon a Time in a faraway land’)\n",
    "- Output: 8"
   ]
  },
  {
   "cell_type": "code",
   "execution_count": 62,
   "metadata": {},
   "outputs": [
    {
     "name": "stdout",
     "output_type": "stream",
     "text": [
      "4\n",
      "2\n",
      "Jumlah kata dari 'Once Upon a Time in a faraway land' = 8\n"
     ]
    }
   ],
   "source": [
    "def number_of_word(sentence):\n",
    "    jumlah_kata = len(sentence.split())\n",
    "    return jumlah_kata\n",
    "\n",
    "print(number_of_word(sentence='belajar coding bikin pusing'))\n",
    "print(number_of_word(sentence='Hello World'))\n",
    "print(\"Jumlah kata dari 'Once Upon a Time in a faraway land' =\", number_of_word(sentence='Once Upon a Time in a faraway land'))\n"
   ]
  },
  {
   "cell_type": "markdown",
   "metadata": {},
   "source": [
    "Task 2 Find Multiple\n",
    "\n",
    "Instruction\n",
    "1. Create function called `find_multiples`.\n",
    "2. This function takes 3 input: `start_range`, `end_range`, and `multiple`.\n",
    "3. From every number within the given range, check if that number is the mutliples of `multiple`.\n",
    "4. Return list of the possible multiple number(s).\n",
    "\n",
    "Example:\n",
    "- Input: find_multiple(start_range= 1, end_range= 20, multiple= 5)\n",
    "- Output: [5, 10, 15, 20]\n",
    "\n",
    "- Input: find_multiple(start_range= 1, end_range= 50, multiple= 10)\n",
    "- Output: [10, 20, 30, 40, 50]\n",
    "\n"
   ]
  },
  {
   "cell_type": "code",
   "execution_count": 60,
   "metadata": {},
   "outputs": [
    {
     "name": "stdout",
     "output_type": "stream",
     "text": [
      "[5, 10, 15, 20]\n",
      "[10, 20, 30, 40, 50]\n"
     ]
    }
   ],
   "source": [
    "def find_multiple(start_range, end_range, multiple):\n",
    "    l = []\n",
    "    end_range = end_range+1\n",
    "    for loop in range(start_range, end_range, 1):\n",
    "        if loop % multiple == 0:\n",
    "            l.append(loop)\n",
    "    print(l)\n",
    "\n",
    "\n",
    "find_multiple(start_range=1, end_range=20, multiple=5)\n",
    "find_multiple(start_range=1, end_range=50, multiple=10)\n"
   ]
  },
  {
   "cell_type": "markdown",
   "metadata": {},
   "source": [
    "Task 3\n",
    "\n",
    "Create a function that will convert student’s grade to GPA.\n",
    "Instruction:\n",
    "1. Create function called `Grade_Converter`.\n",
    "2. This function takes input: `convert_to` and n-paired of student(s) name with its respective score.\n",
    "3. Input argument for `convert_to` is either `letter_grade` or `gpa`.\n",
    "4. You can utilize **kwargs input argument to generate n-length paired of student(s) name with its respective score (Dictionary).\n",
    "5. This function will return dictionary of student’s name along with converted Letter Grade or GPA, depending on user input in `convert_to` parameter."
   ]
  },
  {
   "cell_type": "code",
   "execution_count": 5,
   "metadata": {},
   "outputs": [
    {
     "name": "stdout",
     "output_type": "stream",
     "text": [
      "convert_to :  gpa\n",
      "daftar nama & nilai :  {'danu': 90, 'yuda': 80, 'sapta': 85, 'bagus': 60, 'jamal': 0}\n",
      "{'danu': 4, 'yuda': 3, 'sapta': 4, 'bagus': 2.5, 'jamal': 1} \n",
      "\n",
      "convert_to :  letter_grade\n",
      "daftar nama & nilai :  {'danu': 90, 'yuda': 80, 'sapta': 85, 'bagus': 60, 'jamal': 0}\n",
      "{'danu': 'A', 'yuda': 'B', 'sapta': 'A', 'bagus': 'C', 'jamal': 'F'}\n"
     ]
    }
   ],
   "source": [
    "def Grade_Converter(convert_to, **kwargs):\n",
    "    print('convert_to : ', convert_to)\n",
    "    print('daftar nama & nilai : ', kwargs)\n",
    "    \n",
    "    daftar_nama = list(kwargs.keys())\n",
    "    daftar_nilai = list(kwargs.values())\n",
    "\n",
    "    list_grade = {}\n",
    "\n",
    "    for loop in range (0, len(daftar_nama)):\n",
    "        if convert_to == 'gpa':\n",
    "            if 85 <= daftar_nilai[loop] <=100:\n",
    "                grade_gpa = 4\n",
    "                list_grade[daftar_nama[loop]] = grade_gpa\n",
    "            elif 70 <= daftar_nilai[loop] <=84.99:\n",
    "                grade_gpa = 3\n",
    "                list_grade[daftar_nama[loop]] = grade_gpa\n",
    "            elif 60 <= daftar_nilai[loop] <=69.99:\n",
    "                grade_gpa = 2.5\n",
    "                list_grade[daftar_nama[loop]] = grade_gpa\n",
    "            elif 50 <= daftar_nilai[loop] <=59.99:\n",
    "                grade_gpa = 2\n",
    "                list_grade[daftar_nama[loop]] = grade_gpa\n",
    "            elif 40 <= daftar_nilai[loop] <=49.99:\n",
    "                grade_gpa = 1.5\n",
    "                list_grade[daftar_nama[loop]] = grade_gpa\n",
    "            elif 0 <= daftar_nilai[loop] <=39.99:\n",
    "                grade_gpa = 1\n",
    "                list_grade[daftar_nama[loop]] = grade_gpa\n",
    "        elif convert_to == 'letter_grade':\n",
    "            if 85 <= daftar_nilai[loop] <=100:\n",
    "                letter_grade = 'A'\n",
    "                list_grade[daftar_nama[loop]] = letter_grade\n",
    "            elif 70 <= daftar_nilai[loop] <=84.99:\n",
    "                letter_grade = 'B'\n",
    "                list_grade[daftar_nama[loop]] = letter_grade\n",
    "            elif 60 <= daftar_nilai[loop] <=69.99:\n",
    "                letter_grade = 'C'\n",
    "                list_grade[daftar_nama[loop]] = letter_grade\n",
    "            elif 50 <= daftar_nilai[loop] <=59.99:\n",
    "                letter_grade = 'D'\n",
    "                list_grade[daftar_nama[loop]] = letter_grade\n",
    "            elif 40 <= daftar_nilai[loop] <=49.99:\n",
    "                letter_grade = 'E'\n",
    "                list_grade[daftar_nama[loop]] = letter_grade\n",
    "            elif 0 <= daftar_nilai[loop] <=39.99:\n",
    "                letter_grade = 'F'\n",
    "                list_grade[daftar_nama[loop]] = letter_grade\n",
    "    \n",
    "    return list_grade\n",
    "\n",
    "grade = Grade_Converter(convert_to='gpa', danu=90, yuda=80, sapta=85, bagus=60, jamal=0)\n",
    "print(grade, '\\n')\n",
    "grade = Grade_Converter(convert_to='letter_grade', danu=90, yuda=80, sapta=85, bagus=60, jamal=0)\n",
    "print(grade)"
   ]
  },
  {
   "cell_type": "markdown",
   "metadata": {},
   "source": [
    "Task 4 Fibonacci Sequence\n",
    "Instruction:\n",
    "1. The function will take 1 input parameter, n, represents the asked number from our fibonacci sequence index.\n",
    "2. The fibonacci sequence will start with the value of 0 and 1.\n",
    "3. This function will return the n-th value from fibonacci sequence."
   ]
  },
  {
   "cell_type": "code",
   "execution_count": 86,
   "metadata": {},
   "outputs": [
    {
     "data": {
      "text/plain": [
       "1"
      ]
     },
     "execution_count": 86,
     "metadata": {},
     "output_type": "execute_result"
    }
   ],
   "source": [
    "def fibonacci(n):\n",
    "    nilai1 = 0\n",
    "    nilai2 = 1\n",
    "\n",
    "    if n < 0:\n",
    "        print('Nilai n tidak boleh kurang dari 0')\n",
    "    elif n == 0:\n",
    "        return 0\n",
    "    elif n == 1:\n",
    "        return 1\n",
    "    else:\n",
    "        for loop in range(1, n):\n",
    "            nilai_fibonacci = nilai1 + nilai2\n",
    "            nilai1, nilai2 = nilai2, nilai_fibonacci\n",
    "        return nilai2\n",
    "    print(nilai_fibonacci)\n",
    "\n",
    "fibonacci(2)"
   ]
  }
 ],
 "metadata": {
  "kernelspec": {
   "display_name": "base",
   "language": "python",
   "name": "python3"
  },
  "language_info": {
   "codemirror_mode": {
    "name": "ipython",
    "version": 3
   },
   "file_extension": ".py",
   "mimetype": "text/x-python",
   "name": "python",
   "nbconvert_exporter": "python",
   "pygments_lexer": "ipython3",
   "version": "3.11.5"
  }
 },
 "nbformat": 4,
 "nbformat_minor": 2
}
