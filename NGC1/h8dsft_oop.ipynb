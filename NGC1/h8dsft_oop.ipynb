{
 "cells": [
  {
   "cell_type": "markdown",
   "metadata": {},
   "source": [
    "Task \n",
    "Create a library catalog system using OOP. The system should allow users to add books to the catalog, search for books by title or author, and remove books from the catalog.\n",
    "\n",
    "Requirements:\n",
    "1. Each book should have a title, author, and unique identifier\n",
    "2. The system should provide the following functionality:\n",
    "    ● Adding a book to the catalog.\n",
    "    ● Searching for books by title or author.\n",
    "    ● Removing a book from the catalog.\n",
    "    ● Displaying all books in the catalog.\n",
    "3. Do the exception handling"
   ]
  },
  {
   "cell_type": "code",
   "execution_count": 3,
   "metadata": {},
   "outputs": [
    {
     "name": "stdout",
     "output_type": "stream",
     "text": [
      "Ini object Book, atribute title = Harry Potter\n"
     ]
    }
   ],
   "source": [
    "class Buku:\n",
    "    def __init__(self, judul, author, uid):\n",
    "        self.title = judul\n",
    "        self.author = author\n",
    "        self.uid = uid\n",
    "\n",
    "    def __str__(self):\n",
    "        return f\"Ini object Book, atribute title = {self.title}\"\n",
    "\n",
    "# calling class Book -> Object\n",
    "book1 = Buku(\"Harry Potter\", \"J.K. Rowling\", \"1\")\n",
    "print(book1)"
   ]
  },
  {
   "cell_type": "code",
   "execution_count": 5,
   "metadata": {},
   "outputs": [
    {
     "name": "stdout",
     "output_type": "stream",
     "text": [
      "=====\n",
      "siksa kubur\n",
      "jajang\n",
      "=====\n",
      "siksa neraka\n",
      "jamal\n"
     ]
    }
   ],
   "source": [
    "class catalog_buku:\n",
    "    def __init__(self):\n",
    "        self.isi_catalog = []\n",
    "    \n",
    "    def add_book(self, buku):\n",
    "        #tambah buku ke catalog\n",
    "        self.isi_catalog.append(buku)\n",
    "    \n",
    "    def del_Book(self, bukuid):\n",
    "        # Hapus buku dari katalog\n",
    "        for buku in self.isi_catalog:\n",
    "            # Cek jika buku.uid sama dengan bukuid, maka hapus\n",
    "            if buku.uid == bukuid:\n",
    "                self.isi_catalog.remove(buku)\n",
    "                break\n",
    "\n",
    "    def search_book(self, judul=\"\", author=\"\"):\n",
    "        for buku in self.isi_catalog:\n",
    "            if buku.title == judul and buku.author == author:\n",
    "                print(buku)\n",
    "                break\n",
    "\n",
    "            # Cek jika buku.title == judul, maka tampilkan buku\n",
    "            if buku.title == judul:\n",
    "                print(buku)\n",
    "            \n",
    "            # \n",
    "            elif buku.author == author:\n",
    "                print(buku)\n",
    "\n",
    "    def displayAll_book(self):\n",
    "        for buku in self.isi_catalog:\n",
    "            print(\"=====\")\n",
    "            print(buku.title)\n",
    "            print(buku.author)\n",
    "    \n",
    "    def __str__(self):\n",
    "        return \"Ini object Library\"\n",
    "    \n",
    "\n",
    "cat = catalog_buku()\n",
    "for x in [1,2]:\n",
    "  title = input(\"title\")\n",
    "  author = input(\"author\")\n",
    "  uid = input(\"uid\")\n",
    "\n",
    "  book1 = Buku(title, author, uid)\n",
    "\n",
    "  cat.add_book(book1)\n",
    "cat.displayAll_book()\n",
    "            "
   ]
  },
  {
   "cell_type": "code",
   "execution_count": 7,
   "metadata": {},
   "outputs": [
    {
     "name": "stderr",
     "output_type": "stream",
     "text": [
      "test_addBook (__main__.TestLibrary.test_addBook) ... ok\n",
      "\n",
      "----------------------------------------------------------------------\n",
      "Ran 1 test in 0.001s\n",
      "\n",
      "OK\n"
     ]
    },
    {
     "data": {
      "text/plain": [
       "<unittest.main.TestProgram at 0x254d5808250>"
      ]
     },
     "execution_count": 7,
     "metadata": {},
     "output_type": "execute_result"
    }
   ],
   "source": [
    "import unittest\n",
    "\n",
    "class TestLibrary(unittest.TestCase):\n",
    "  # test case 1\n",
    "  # addBook -> Book saved ?\n",
    "  def test_addBook(self):\n",
    "    cat = catalog_buku()\n",
    "    book1 = Buku(\"Harry Potter\", \"J.K. Rowling\", 1)\n",
    "    book2 = Buku(\"Fantastic Beast\", \"J.K. Rowling\", 2)\n",
    "    book3 = Buku(\"Earth\", \"Tere Liye\", 3)\n",
    "\n",
    "    cat.add_book(book1)\n",
    "    cat.add_book(book2)\n",
    "    cat.add_book(book3)\n",
    "\n",
    "    numberOfBooks = len(cat.isi_catalog)\n",
    "\n",
    "    # assertion\n",
    "    self.assertEqual(numberOfBooks, 3)\n",
    "\n",
    "# run unittest in notebook\n",
    "unittest.main(argv=[''], verbosity=2, exit=False)"
   ]
  }
 ],
 "metadata": {
  "kernelspec": {
   "display_name": "base",
   "language": "python",
   "name": "python3"
  },
  "language_info": {
   "codemirror_mode": {
    "name": "ipython",
    "version": 3
   },
   "file_extension": ".py",
   "mimetype": "text/x-python",
   "name": "python",
   "nbconvert_exporter": "python",
   "pygments_lexer": "ipython3",
   "version": "3.11.5"
  }
 },
 "nbformat": 4,
 "nbformat_minor": 2
}
